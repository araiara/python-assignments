{
 "cells": [
  {
   "cell_type": "markdown",
   "id": "champion-board",
   "metadata": {},
   "source": [
    "#### 1. Write a Python program to get the smallest and largest number from a list of integers."
   ]
  },
  {
   "cell_type": "code",
   "execution_count": 1,
   "id": "immediate-maker",
   "metadata": {},
   "outputs": [
    {
     "name": "stdout",
     "output_type": "stream",
     "text": [
      "Smallest number:  1\n",
      "Largest number:  10\n"
     ]
    }
   ],
   "source": [
    "my_list = [1, 2, 3, 4, 5, 10, 9, 8, 7, 6]\n",
    "print(\"Smallest number: \", min(my_list))\n",
    "print(\"Largest number: \", max(my_list))"
   ]
  },
  {
   "cell_type": "markdown",
   "id": "silver-process",
   "metadata": {},
   "source": [
    "#### 2. Write a Python program to get the following pattern using a nested loop.\n",
    "1<br/>\n",
    "22<br/>\n",
    "333<br/>\n",
    "4444<br/>\n",
    "55555<br/>\n",
    "666666<br/>\n",
    "7777777<br/>\n",
    "88888888<br/>\n",
    "999999999"
   ]
  },
  {
   "cell_type": "code",
   "execution_count": 2,
   "id": "weird-shipping",
   "metadata": {},
   "outputs": [
    {
     "name": "stdout",
     "output_type": "stream",
     "text": [
      "1\n",
      "22\n",
      "333\n",
      "4444\n",
      "55555\n",
      "666666\n",
      "7777777\n",
      "88888888\n",
      "999999999\n"
     ]
    }
   ],
   "source": [
    "for i in range(1, 10):\n",
    "    for j in range(i):\n",
    "        print(i, end='')\n",
    "    print()"
   ]
  },
  {
   "cell_type": "markdown",
   "id": "virgin-egyptian",
   "metadata": {},
   "source": [
    "#### 3. You are given a string and your task is to swap cases. In other words, convert all lowercase letters to uppercase letters and vice versa.\n",
    "Example: Pythonist 2 → pYTHONIST 2\n"
   ]
  },
  {
   "cell_type": "code",
   "execution_count": 3,
   "id": "identified-society",
   "metadata": {},
   "outputs": [
    {
     "name": "stdout",
     "output_type": "stream",
     "text": [
      "Enter a string value: Pythonist 2\n"
     ]
    },
    {
     "data": {
      "text/plain": [
       "'pYTHONIST 2'"
      ]
     },
     "execution_count": 3,
     "metadata": {},
     "output_type": "execute_result"
    }
   ],
   "source": [
    "my_string = input(\"Enter a string value: \")\n",
    "my_string.swapcase()"
   ]
  },
  {
   "cell_type": "markdown",
   "id": "stable-lighting",
   "metadata": {},
   "source": [
    "#### 4. Given a sentence use string split and join to get the result as shown below:\n",
    "Sample Input: this is a string   \n",
    "Sample Output: this-is-a-string"
   ]
  },
  {
   "cell_type": "code",
   "execution_count": 4,
   "id": "standard-navigation",
   "metadata": {},
   "outputs": [
    {
     "name": "stdout",
     "output_type": "stream",
     "text": [
      "Enter a string value: this is a string\n"
     ]
    },
    {
     "data": {
      "text/plain": [
       "'this-is-a-string'"
      ]
     },
     "execution_count": 4,
     "metadata": {},
     "output_type": "execute_result"
    }
   ],
   "source": [
    "my_input = input(\"Enter a string value: \")\n",
    "'-'.join(my_input.split())"
   ]
  },
  {
   "cell_type": "markdown",
   "id": "guilty-worker",
   "metadata": {},
   "source": [
    "#### 5. Write a Python program to find the difference between consecutive numbers in a given list.\n",
    "Original list: [4, 5, 8, 9, 6, 10] <br/>\n",
    "Difference between consecutive numbers of the said list: [1, 3, 1, -3, 4]"
   ]
  },
  {
   "cell_type": "code",
   "execution_count": 5,
   "id": "perfect-puppy",
   "metadata": {},
   "outputs": [
    {
     "data": {
      "text/plain": [
       "[1, 3, 1, -3, 4]"
      ]
     },
     "execution_count": 5,
     "metadata": {},
     "output_type": "execute_result"
    }
   ],
   "source": [
    "my_list = [4, 5, 8, 9, 6, 10]\n",
    "diff_list = []\n",
    "for i in range(len(my_list)):\n",
    "    if i == len(my_list) - 1: \n",
    "        break\n",
    "    diff_list.append(my_list[i+1] - my_list[i])\n",
    "diff_list"
   ]
  },
  {
   "cell_type": "markdown",
   "id": "contained-acrylic",
   "metadata": {},
   "source": [
    "#### 6. Write a Python program to get the frequency of the elements in a given list of lists.\n",
    "Original list of lists: [[1, 2, 3, 2], [4, 5, 6, 2], [7, 8, 9, 5]] <br/>\n",
    "Frequency of the elements in the said list of lists: <br/>\n",
    "{1: 1, 2: 3, 3: 1, 4: 1, 5: 2, 6: 1, 7: 1, 8: 1, 9: 1}\n"
   ]
  },
  {
   "cell_type": "code",
   "execution_count": 6,
   "id": "infrared-boxing",
   "metadata": {},
   "outputs": [
    {
     "data": {
      "text/plain": [
       "{1: 1, 2: 3, 3: 1, 4: 1, 5: 2, 6: 1, 7: 1, 8: 1, 9: 1}"
      ]
     },
     "execution_count": 6,
     "metadata": {},
     "output_type": "execute_result"
    }
   ],
   "source": [
    "my_2d_list = [[1, 2, 3, 2], [4, 5, 6, 2], [7, 8, 9, 5]]\n",
    "\n",
    "my_list = []\n",
    "my_dict = {}\n",
    "\n",
    "# converting 2d to 1d\n",
    "for list_item in my_2d_list:\n",
    "    for item in list_item:\n",
    "        my_list.append(item)\n",
    "\n",
    "for item in set(my_list):\n",
    "    my_dict[item] = my_list.count(item)\n",
    "#     dict((item, my_list.count(item)) for item in set(my_list))\n",
    "my_dict"
   ]
  },
  {
   "cell_type": "markdown",
   "id": "collaborative-lincoln",
   "metadata": {},
   "source": [
    "#### 7. Write a Python program to combine two lists into a dictionary, where the elements of the first one serve as the keys and the elements of the second one serve as the values. The values of the first list need to be unique and hashable.\n",
    "Sample Output: <br/>\n",
    "Original lists: <br/>\n",
    "['a', 'b', 'c', 'd', 'e', 'f'] <br/>\n",
    "[1, 2, 3, 4, 5] <br/>\n",
    "Combine the values of the said two lists into a dictionary:\n",
    "{'a': 1, 'b': 2, 'c': 3, 'd': 4, 'e': 5}\n"
   ]
  },
  {
   "cell_type": "code",
   "execution_count": 7,
   "id": "celtic-arena",
   "metadata": {},
   "outputs": [
    {
     "data": {
      "text/plain": [
       "{'a': 1, 'b': 2, 'c': 3, 'd': 4, 'e': 5}"
      ]
     },
     "execution_count": 7,
     "metadata": {},
     "output_type": "execute_result"
    }
   ],
   "source": [
    "key_list = ['a', 'b', 'c', 'd', 'e', 'f']\n",
    "value_list = [1, 2, 3, 4, 5]\n",
    "\n",
    "dict((key_list[i], value_list[i]) for i in range(0, len(key_list)-1))"
   ]
  },
  {
   "cell_type": "markdown",
   "id": "romantic-weapon",
   "metadata": {},
   "source": [
    "### 8. Write a Python program to find the key of the maximum value in a dictionary.\n",
    "Sample Output: <br/>\n",
    "Original dictionary elements <br/>\n",
    "{'Theodore': 19, 'Roxanne': 22, 'Mathew': 21, 'Betty': 20}\n",
    "the maximum and minimum value of the said dictionary: \n",
    "('Roxanne', 'Theodore')\n"
   ]
  },
  {
   "cell_type": "code",
   "execution_count": 8,
   "id": "graduate-procurement",
   "metadata": {},
   "outputs": [
    {
     "name": "stdout",
     "output_type": "stream",
     "text": [
      "the maximum and minimum value of the said dictionary:  ('Roxanne', 'Theodore')\n"
     ]
    }
   ],
   "source": [
    "my_dict = {'Theodore': 19, 'Roxanne': 22, 'Mathew': 21, 'Betty': 20}\n",
    "\n",
    "my_keys, my_values = [], []\n",
    "for key, value in my_dict.items():\n",
    "    my_keys.append(key)\n",
    "    my_values.append(value)\n",
    "    \n",
    "    \n",
    "print('the maximum and minimum value of the said dictionary: ', \n",
    "      (my_keys[my_values.index(max(my_values))], my_keys[my_values.index(min(my_values))])\n",
    "     )"
   ]
  },
  {
   "cell_type": "markdown",
   "id": "corporate-cradle",
   "metadata": {},
   "source": [
    "#### 9. Write a Python program to construct the following pattern, using a nested for loop.\n",
    "* \n",
    "* *\n",
    "* * *\n",
    "* * * *\n",
    "* * * * *\n",
    "* * * *\n",
    "* * *\n",
    "* *\n",
    "*\n"
   ]
  },
  {
   "cell_type": "code",
   "execution_count": 9,
   "id": "according-honduras",
   "metadata": {},
   "outputs": [
    {
     "name": "stdout",
     "output_type": "stream",
     "text": [
      "*\n",
      "**\n",
      "***\n",
      "****\n",
      "*****\n",
      "****\n",
      "***\n",
      "**\n",
      "*\n"
     ]
    }
   ],
   "source": [
    "for i in range(1, 6):\n",
    "    for j in range(i):\n",
    "        print('*', end='')\n",
    "    print()\n",
    "    \n",
    "for k in range(4, 0, -1):\n",
    "    for l in range(k):\n",
    "        print('*', end='')\n",
    "    print()"
   ]
  },
  {
   "cell_type": "markdown",
   "id": "assisted-march",
   "metadata": {},
   "source": [
    "#### 10. Write a Python program that prints all the numbers from 0 to 20 except the numbers in the given list [ 5, 6, 12, 15].\n",
    "Note : use the ‘continue' statement.\n"
   ]
  },
  {
   "cell_type": "code",
   "execution_count": 10,
   "id": "miniature-tactics",
   "metadata": {},
   "outputs": [
    {
     "name": "stdout",
     "output_type": "stream",
     "text": [
      "0 1 2 3 4 7 8 9 10 11 13 14 16 17 18 19 20 "
     ]
    }
   ],
   "source": [
    "given_list = [5, 6, 12, 15]\n",
    "\n",
    "for i in range(21):\n",
    "    if i in given_list: continue\n",
    "    print(i, end=' ')"
   ]
  },
  {
   "cell_type": "markdown",
   "id": "square-change",
   "metadata": {},
   "source": [
    "#### 11. Write a Program to count the number of vowels in a given string.\n",
    "\tExample:\n",
    "\tInput_string = ‘Hello World’\n",
    "\tCount_output = 3\n"
   ]
  },
  {
   "cell_type": "code",
   "execution_count": 11,
   "id": "crucial-bibliography",
   "metadata": {},
   "outputs": [
    {
     "name": "stdout",
     "output_type": "stream",
     "text": [
      "Enter a string value: Hello World\n",
      "Count output:  3\n"
     ]
    }
   ],
   "source": [
    "my_string = input(\"Enter a string value: \")\n",
    "vowel_count = 0\n",
    "\n",
    "for i in my_string.lower():\n",
    "    if i in ('a', 'e', 'i', 'o', 'u'):\n",
    "        vowel_count += 1 \n",
    "\n",
    "print(\"Count output: \", vowel_count)"
   ]
  },
  {
   "cell_type": "markdown",
   "id": "supported-patient",
   "metadata": {},
   "source": [
    "#### 12. Write a Python program to remove consecutive duplicates from a list.\n",
    "Original list:\n",
    "initial_input = [0, 0, 1, 2, 3, 4, 4, 5, 6, 6, 6, 7, 8, 9, 4, 4] <br/>\n",
    "After removing consecutive duplicates:\n",
    "final_output = [0, 1, 2, 3, 4, 5, 6, 7, 8, 9, 4]\n"
   ]
  },
  {
   "cell_type": "code",
   "execution_count": 12,
   "id": "geographic-permission",
   "metadata": {},
   "outputs": [
    {
     "name": "stdout",
     "output_type": "stream",
     "text": [
      "Removing consecutive duplicates:  [0, 1, 2, 3, 4, 5, 6, 7, 8, 9, 4]\n"
     ]
    }
   ],
   "source": [
    "my_list = [0, 0, 1, 2, 3, 4, 4, 5, 6, 6, 6, 7, 8, 9, 4, 4]\n",
    "\n",
    "for i, value in enumerate(my_list):\n",
    "    if value == my_list[i+1] or value == my_list[i-1]:\n",
    "        my_list.pop(i)\n",
    "\n",
    "print(\"Removing consecutive duplicates: \", my_list)"
   ]
  },
  {
   "cell_type": "markdown",
   "id": "accessible-necessity",
   "metadata": {},
   "source": [
    "#### 13. Write a Program to read a sample text file and count the words having length greater than or equal to 5."
   ]
  },
  {
   "cell_type": "code",
   "execution_count": 13,
   "id": "diagnostic-luxury",
   "metadata": {},
   "outputs": [
    {
     "name": "stdout",
     "output_type": "stream",
     "text": [
      "17\n"
     ]
    }
   ],
   "source": [
    "with open('pronouns.txt', 'r') as my_file:\n",
    "    count = 0\n",
    "    \n",
    "    while True:\n",
    "        line = my_file.readline()\n",
    "        \n",
    "        if not line: break\n",
    "            \n",
    "        words = line.split()\n",
    "        \n",
    "        for i in words:\n",
    "            if len(i) >= 5: count += 1\n",
    "    print(count)\n",
    "    "
   ]
  },
  {
   "cell_type": "markdown",
   "id": "moving-delta",
   "metadata": {},
   "source": [
    "#### 14.  Write a program to read a sample text file and Capitalize the each word and append it to the same file."
   ]
  },
  {
   "cell_type": "code",
   "execution_count": 14,
   "id": "canadian-circle",
   "metadata": {},
   "outputs": [
    {
     "name": "stdout",
     "output_type": "stream",
     "text": [
      "THE USE OF PRONOUNS OFTEN INVOLVES ANAPHORA, WHERE THE MEANING OF THE PRONOUN IS DEPENDENT ON AN ANTECEDENT. \n",
      "FOR EXAMPLE, IN THE SENTENCE THAT POOR MAN LOOKS AS IF HE NEEDS A NEW COAT, THE ANTECEDENT OF THE PRONOUN HE IS DEPENDENT ON THAT POOR MAN.\n"
     ]
    }
   ],
   "source": [
    "with open('pronouns.txt', 'r+') as my_file:\n",
    "    content = my_file.read()\n",
    "    my_file.write('\\n')\n",
    "    my_file.write(content.upper())\n",
    "    print(content.upper())"
   ]
  },
  {
   "cell_type": "markdown",
   "id": "critical-joyce",
   "metadata": {},
   "source": [
    "#### 15. Write a function in Python that takes a normal .txt file path as an input and counts the word in a given list [ the, these, that, and]  and displays it. "
   ]
  },
  {
   "cell_type": "code",
   "execution_count": 15,
   "id": "signed-momentum",
   "metadata": {},
   "outputs": [
    {
     "name": "stdout",
     "output_type": "stream",
     "text": [
      "16\n"
     ]
    }
   ],
   "source": [
    "with open('pronouns.txt', 'r') as my_file:\n",
    "    count = 0\n",
    "    \n",
    "    while True:\n",
    "        line = my_file.readline()\n",
    "        \n",
    "        if not line: break\n",
    "            \n",
    "        words = line.split()\n",
    "        \n",
    "        for i in words:\n",
    "            if i.lower() in ('the', 'this', 'that', 'and'): count += 1\n",
    "    print(count)\n",
    "    "
   ]
  },
  {
   "cell_type": "markdown",
   "id": "atlantic-pledge",
   "metadata": {},
   "source": [
    "#### 16. Map, Filter, Reduce Question:  Given a list of strings fruits as shown below:\n",
    " fruits = [\"Apple\", \"Banana\", \"Pear\", \"Apricot\", \"Orange\"]. <br/> \n",
    "a. Change each of the words to uppercase using map function <br/>\n",
    "b. Filter out the words starting with ‘A’ using filter functionality <br/>\n",
    "c. Concat all words using reduce \n"
   ]
  },
  {
   "cell_type": "code",
   "execution_count": 16,
   "id": "listed-support",
   "metadata": {},
   "outputs": [],
   "source": [
    "fruits = [\"Apple\", \"Banana\", \"Pear\", \"Apricot\", \"Orange\"]"
   ]
  },
  {
   "cell_type": "code",
   "execution_count": 17,
   "id": "viral-application",
   "metadata": {},
   "outputs": [
    {
     "data": {
      "text/plain": [
       "['APPLE', 'BANANA', 'PEAR', 'APRICOT', 'ORANGE']"
      ]
     },
     "execution_count": 17,
     "metadata": {},
     "output_type": "execute_result"
    }
   ],
   "source": [
    "# a\n",
    "list(map(str.upper, fruits))"
   ]
  },
  {
   "cell_type": "code",
   "execution_count": 18,
   "id": "random-treasure",
   "metadata": {},
   "outputs": [
    {
     "data": {
      "text/plain": [
       "['Apple', 'Apricot']"
      ]
     },
     "execution_count": 18,
     "metadata": {},
     "output_type": "execute_result"
    }
   ],
   "source": [
    "# b\n",
    "list(filter(lambda x: x.startswith('A'), fruits))"
   ]
  },
  {
   "cell_type": "code",
   "execution_count": 19,
   "id": "removed-landing",
   "metadata": {},
   "outputs": [
    {
     "data": {
      "text/plain": [
       "'AppleBananaPearApricotOrange'"
      ]
     },
     "execution_count": 19,
     "metadata": {},
     "output_type": "execute_result"
    }
   ],
   "source": [
    "# c\n",
    "from functools import reduce\n",
    "\n",
    "reduce(lambda x, y: x+y, fruits)"
   ]
  }
 ],
 "metadata": {
  "kernelspec": {
   "display_name": "Python 3",
   "language": "python",
   "name": "python3"
  },
  "language_info": {
   "codemirror_mode": {
    "name": "ipython",
    "version": 3
   },
   "file_extension": ".py",
   "mimetype": "text/x-python",
   "name": "python",
   "nbconvert_exporter": "python",
   "pygments_lexer": "ipython3",
   "version": "3.8.8"
  }
 },
 "nbformat": 4,
 "nbformat_minor": 5
}
