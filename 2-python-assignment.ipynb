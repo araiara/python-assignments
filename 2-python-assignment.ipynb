{
 "cells": [
  {
   "cell_type": "markdown",
   "id": "corrected-district",
   "metadata": {},
   "source": [
    "# Day 2 Python Basics Assignment"
   ]
  },
  {
   "cell_type": "markdown",
   "id": "adolescent-place",
   "metadata": {},
   "source": [
    "#### 1. Create generator with and without comprehension for getting multiples of given number upto 10.\n",
    "Eg. generator(5) =>> 5, 10, 15 …. 50"
   ]
  },
  {
   "cell_type": "markdown",
   "id": "unusual-thumb",
   "metadata": {},
   "source": [
    "##### without comprehension"
   ]
  },
  {
   "cell_type": "code",
   "execution_count": 1,
   "id": "communist-mailman",
   "metadata": {},
   "outputs": [
    {
     "name": "stdout",
     "output_type": "stream",
     "text": [
      "5 10 15 20 25 30 35 40 45 50 "
     ]
    }
   ],
   "source": [
    "def multiple_gen(x):\n",
    "    for count in range(1, 11):\n",
    "        yield x*count\n",
    "        \n",
    "for i in multiple_gen(5):\n",
    "    print(i, end=' ')\n"
   ]
  },
  {
   "cell_type": "markdown",
   "id": "amateur-credits",
   "metadata": {},
   "source": [
    "##### with comprehension"
   ]
  },
  {
   "cell_type": "code",
   "execution_count": 2,
   "id": "played-airplane",
   "metadata": {},
   "outputs": [
    {
     "name": "stdout",
     "output_type": "stream",
     "text": [
      "5 10 15 20 25 30 35 40 45 50 "
     ]
    }
   ],
   "source": [
    "x = 5\n",
    "multiple_gen = (x*count for count in range(1, 11))\n",
    "\n",
    "for i in multiple_gen:\n",
    "    print(i, end=' ')"
   ]
  },
  {
   "cell_type": "markdown",
   "id": "ultimate-packaging",
   "metadata": {},
   "source": [
    "<hr/>"
   ]
  },
  {
   "cell_type": "markdown",
   "id": "large-authority",
   "metadata": {},
   "source": [
    "#### 2. Create a scenario where the following errors are handled:\n",
    "a. Custom Error implemented using class <br/>\n",
    "b. Custom Error using Exception or BaseException class using message to handle at least two of the cases. <br/>\n",
    "c.The full-fledged case for exception handling using try, except, else, finally\n"
   ]
  },
  {
   "cell_type": "markdown",
   "id": "wrong-experience",
   "metadata": {},
   "source": [
    "##### Scenario: Check the eligibility to vote or not."
   ]
  },
  {
   "cell_type": "code",
   "execution_count": 3,
   "id": "ranging-effort",
   "metadata": {},
   "outputs": [
    {
     "name": "stdout",
     "output_type": "stream",
     "text": [
      "You can vote.\n",
      "Thank you for you time!\n"
     ]
    }
   ],
   "source": [
    "class AgeNotEligible(Exception):\n",
    "    pass\n",
    "\n",
    "def check_age(age):\n",
    "    try:\n",
    "        if age > 0 and age < 18:\n",
    "            raise AgeNotEligible(\"You're not eligible to vote.\")\n",
    "        elif age <= 0:\n",
    "            raise BaseException\n",
    "        elif age >= 100:\n",
    "            raise AgeNotEligible(\"You surely lived long!\")\n",
    "    \n",
    "    except AgeNotEligible as err_msg:\n",
    "        print(err_msg)\n",
    "    \n",
    "    except:\n",
    "        print(\"Please enter a valid age.\")\n",
    "    \n",
    "    else:\n",
    "        print(\"You can vote.\")\n",
    "    \n",
    "    finally:\n",
    "        print(\"Thank you for you time!\")\n",
    "    \n",
    "\n",
    "check_age(18)"
   ]
  },
  {
   "cell_type": "markdown",
   "id": "developed-marketplace",
   "metadata": {},
   "source": [
    "<hr/>"
   ]
  },
  {
   "cell_type": "markdown",
   "id": "limiting-short",
   "metadata": {},
   "source": [
    "#### 3. Create at least 4 classes having semantic meaning (having relation to each other) so that multiple inheritance can be achieved and incorporating the following things in some of them:\n",
    "a. @classmethod <br/>\n",
    "b. @staticmethod <br/>\n",
    "c. @property and setter for it <br/>\n",
    "d. Class_variable\n"
   ]
  },
  {
   "cell_type": "code",
   "execution_count": 4,
   "id": "behavioral-forwarding",
   "metadata": {},
   "outputs": [],
   "source": [
    "class Customers:\n",
    "    def __init__(self, customer_name):\n",
    "        self.customer_name = customer_name\n",
    "    \n",
    "    @property\n",
    "    def customer_identity(self):\n",
    "        return self.customer_name\n",
    "\n",
    "    @customer_identity.setter\n",
    "    def customer_identity(self, new_customer_name):\n",
    "        self.customer_name = new_customer_name\n",
    "    \n",
    "    def get_customer_name(self):\n",
    "        return self.customer_name\n",
    "        \n",
    "        \n",
    "class Categories:\n",
    "    def __init__(self, category_id):\n",
    "        self.category_id = category_id \n",
    "        \n",
    "    def get_category(self):\n",
    "        if self.category_id == 'STN':\n",
    "            return \"Stationary\"\n",
    "        else:\n",
    "            return \"Miscellaneous\"\n",
    "        \n",
    "    def __str__(self):\n",
    "        return \"{} is {}\".format(self.category_id, self.get_category())\n",
    "    \n",
    "    \n",
    "    @classmethod \n",
    "    def using_string(cls, string):\n",
    "        category_id = string\n",
    "        return cls(category_id)\n",
    "\n",
    "        \n",
    "class Items(Categories):\n",
    "    def __init__(self, item_name, available_quantity, category_id):\n",
    "        super().__init__(category_id)\n",
    "        self.item_name = item_name\n",
    "        self.available_quantity = available_quantity\n",
    "    \n",
    "    # a static method to check if an item is available or not\n",
    "    @staticmethod\n",
    "    def is_available(quantity):\n",
    "        return True if quantity > 0 else False   \n",
    "    \n",
    "    def get_item_name(self):\n",
    "        return self.item_name\n",
    "    \n",
    "        \n",
    "class Orders(Customers, Items):\n",
    "    address = \"Nepal\"\n",
    "    def __init__(self, customer_name, item_name, available_quantity, category_id, ordered_quantity):\n",
    "        Customers.__init__(self, customer_name)\n",
    "        Items.__init__(self, item_name, available_quantity, category_id)\n",
    "        self.ordered_quantity = ordered_quantity\n",
    "        \n",
    "    def order(self):\n",
    "        return \"The customer {} from {} ordered an item {} of category {}.\".format(super().get_customer_name(),\n",
    "                                                                                   self.address,\n",
    "                                                                                   super().get_item_name(),\n",
    "                                                                                   super().get_category())\n",
    "    \n",
    "        \n"
   ]
  },
  {
   "cell_type": "code",
   "execution_count": 5,
   "id": "differential-booking",
   "metadata": {},
   "outputs": [
    {
     "name": "stdout",
     "output_type": "stream",
     "text": [
      "True\n",
      "The customer Charles from Nepal ordered an item Pen of category Stationary.\n"
     ]
    }
   ],
   "source": [
    "order = Orders('Charles', 'Pen', 5, 'STN', 1)\n",
    "print(order.is_available(5))\n",
    "print(order.order())"
   ]
  },
  {
   "cell_type": "code",
   "execution_count": 6,
   "id": "stuffed-cleveland",
   "metadata": {},
   "outputs": [
    {
     "data": {
      "text/plain": [
       "'The customer William from Nepal ordered an item Pen of category Stationary.'"
      ]
     },
     "execution_count": 6,
     "metadata": {},
     "output_type": "execute_result"
    }
   ],
   "source": [
    "order.customer_identity = \"William\"\n",
    "order.order()"
   ]
  },
  {
   "cell_type": "code",
   "execution_count": 7,
   "id": "statewide-median",
   "metadata": {},
   "outputs": [
    {
     "name": "stdout",
     "output_type": "stream",
     "text": [
      "SHA is Miscellaneous\n"
     ]
    }
   ],
   "source": [
    "cat = Categories.using_string('SHA')\n",
    "print(cat)"
   ]
  },
  {
   "cell_type": "code",
   "execution_count": 8,
   "id": "magnetic-stomach",
   "metadata": {},
   "outputs": [
    {
     "name": "stdout",
     "output_type": "stream",
     "text": [
      "[<class '__main__.Orders'>, <class '__main__.Customers'>, <class '__main__.Items'>, <class '__main__.Categories'>, <class 'object'>]\n"
     ]
    }
   ],
   "source": [
    "print(Orders.mro())"
   ]
  },
  {
   "cell_type": "markdown",
   "id": "cutting-blind",
   "metadata": {},
   "source": [
    "<hr/>"
   ]
  },
  {
   "cell_type": "markdown",
   "id": "lined-instrument",
   "metadata": {},
   "source": [
    "#### 4. Create a class for complex number implementing all the arithmetic operations and relational operations related dunder methods. \n",
    "Eg. __add__, __iadd__, __mult__, __eq__, __lt__, …"
   ]
  },
  {
   "cell_type": "code",
   "execution_count": 9,
   "id": "sixth-vienna",
   "metadata": {},
   "outputs": [],
   "source": [
    "class ComplexNumber:\n",
    "    def __init__(self, a):\n",
    "        self.a = a\n",
    "    \n",
    "    def __add__(self, b):\n",
    "        return self.a + b\n",
    "    \n",
    "    def __sub__(self, b):\n",
    "        return self.a - b\n",
    "    \n",
    "    def __iadd__(self, b):\n",
    "        self.a = self.a + b\n",
    "        return self.a\n",
    "    \n",
    "    def __mul__(self, b):\n",
    "        return self.a * b\n",
    "    \n",
    "    def __div__(self, b):\n",
    "        return self.a / b\n",
    "    \n",
    "    def __floordiv__(self, b):\n",
    "        return self.a // b \n",
    "    \n",
    "    def __mod__(self, b):\n",
    "        return self.a % b\n",
    "    \n",
    "    def __pow__(self, b):\n",
    "        return self.a ** b\n",
    "    \n",
    "    def __eq__(self, b):\n",
    "        return self.a == b\n",
    "    \n",
    "    def __lt__(self, b):\n",
    "        return self.a < b\n",
    "    \n",
    "    def __gt__(self, b):\n",
    "        return self.a > b\n",
    "    \n",
    "    def __le__(self, b):\n",
    "        return self.a <= b\n",
    "    \n",
    "    def __ge__(self, b):\n",
    "        return self.a >= b\n",
    "\n",
    "    def __ne__(self, b):\n",
    "        return self.a != b\n",
    "    \n",
    "    def __gt__(self, b):\n",
    "        return self.a > b\n"
   ]
  },
  {
   "cell_type": "code",
   "execution_count": 10,
   "id": "personal-pattern",
   "metadata": {},
   "outputs": [
    {
     "data": {
      "text/plain": [
       "1.0"
      ]
     },
     "execution_count": 10,
     "metadata": {},
     "output_type": "execute_result"
    }
   ],
   "source": [
    "obj = ComplexNumber(5)\n",
    "obj.__div__(5)"
   ]
  }
 ],
 "metadata": {
  "kernelspec": {
   "display_name": "Python 3",
   "language": "python",
   "name": "python3"
  },
  "language_info": {
   "codemirror_mode": {
    "name": "ipython",
    "version": 3
   },
   "file_extension": ".py",
   "mimetype": "text/x-python",
   "name": "python",
   "nbconvert_exporter": "python",
   "pygments_lexer": "ipython3",
   "version": "3.8.8"
  }
 },
 "nbformat": 4,
 "nbformat_minor": 5
}
