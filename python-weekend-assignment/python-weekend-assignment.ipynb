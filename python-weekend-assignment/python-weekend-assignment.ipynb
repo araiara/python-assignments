{
 "cells": [
  {
   "cell_type": "markdown",
   "id": "marked-cassette",
   "metadata": {},
   "source": [
    "## Part 1\n",
    "### Question 1: General questions\n",
    "#### a. Using Map with lambda function generates a third list with a single map statement that sums the integer elements of the same index of two given lists.\n",
    "\n",
    "\n",
    "lst1=[100, 200, 300, 400, 500] <br/>\n",
    "lst2=[1,10,100,1000,10000]\n",
    "\n",
    "Should return with a single statement :  [101, 210, 400, 1400, 10500]\n"
   ]
  },
  {
   "cell_type": "code",
   "execution_count": 1,
   "id": "crazy-plastic",
   "metadata": {},
   "outputs": [
    {
     "data": {
      "text/plain": [
       "[101, 210, 400, 1400, 10500]"
      ]
     },
     "execution_count": 1,
     "metadata": {},
     "output_type": "execute_result"
    }
   ],
   "source": [
    "list_1 = [100, 200, 300, 400, 500]\n",
    "list_2 = [1,10,100,1000,10000]\n",
    "\n",
    "list(map((lambda x, y: x + y), list_1, list_2))"
   ]
  },
  {
   "cell_type": "markdown",
   "id": "shared-taiwan",
   "metadata": {},
   "source": [
    "<br/>"
   ]
  },
  {
   "cell_type": "markdown",
   "id": "precious-theology",
   "metadata": {},
   "source": [
    "#### b. Write a function that takes a string and returns the dictionary with each character as key and its count as value.\n",
    "For example: \n",
    "result  = myfunc (\"aaaaabbbbcccdde\")\n",
    "\n",
    "Should return \n",
    "{ ’a’ : 5, ’b’ : 4, ’c’ : 3, ’d’ : 2, ’e’ : 1 }\n",
    " "
   ]
  },
  {
   "cell_type": "code",
   "execution_count": 3,
   "id": "listed-connection",
   "metadata": {},
   "outputs": [
    {
     "data": {
      "text/plain": [
       "{'c': 3, 'a': 5, 'e': 1, 'd': 2, 'b': 4}"
      ]
     },
     "execution_count": 3,
     "metadata": {},
     "output_type": "execute_result"
    }
   ],
   "source": [
    "def char_count(my_string):\n",
    "    return {i: my_string.count(i) for i in set(my_string)}\n",
    "\n",
    "result = char_count(\"aaaaabbbbcccdde\")\n",
    "result"
   ]
  },
  {
   "cell_type": "markdown",
   "id": "equipped-roulette",
   "metadata": {},
   "source": [
    "<br/>"
   ]
  },
  {
   "cell_type": "markdown",
   "id": "automotive-swedish",
   "metadata": {},
   "source": [
    "#### c. The dictionary  given below consists of vehicles and their weights in kilograms. Construct a list of the names of vehicles with weight below 5000 kilograms. In the same list comprehension makes the key names all uppercase. Use just a single comprehension statement to achieve it.\n",
    "\t\n",
    "dict={\n",
    "\"Sedan\": 1500, \"SUV\": 2000, \"Pickup\": 2500, \"Minivan\": 1600, \"Van\": 2400, \"Semi\": 13600, \"Bicycle\": 7, \"Motorcycle\": 110\n",
    "}\n",
    "\n",
    "Solution should be just a statement with list comprehension like below <br/>\n",
    "List = [ use comprehension to achieve the result in single statement ] \n"
   ]
  },
  {
   "cell_type": "code",
   "execution_count": 4,
   "id": "residential-singapore",
   "metadata": {},
   "outputs": [
    {
     "data": {
      "text/plain": [
       "['SEDAN', 'SUV', 'PICKUP', 'MINIVAN', 'VAN', 'BICYCLE', 'MOTORCYCLE']"
      ]
     },
     "execution_count": 4,
     "metadata": {},
     "output_type": "execute_result"
    }
   ],
   "source": [
    "my_dict={\"Sedan\": 1500, \"SUV\": 2000, \"Pickup\": 2500, \"Minivan\": 1600, \"Van\": 2400, \"Semi\": 13600, \"Bicycle\": 7, \"Motorcycle\": 110}\n",
    "\n",
    "[key.upper() for key, value in my_dict.items() if value < 5000]"
   ]
  },
  {
   "cell_type": "markdown",
   "id": "pleasant-basics",
   "metadata": {},
   "source": [
    "<hr/>"
   ]
  },
  {
   "cell_type": "markdown",
   "id": "leading-insulin",
   "metadata": {},
   "source": [
    "### Question 3: Balance a sequence of brackets"
   ]
  },
  {
   "cell_type": "code",
   "execution_count": 5,
   "id": "distributed-window",
   "metadata": {},
   "outputs": [
    {
     "name": "stdout",
     "output_type": "stream",
     "text": [
      "NO\n",
      "YES\n"
     ]
    }
   ],
   "source": [
    "def is_balanced(my_sequence):\n",
    "    my_stack = []\n",
    "\n",
    "    open_brackets = ['(', '[', '{']\n",
    "    close_brackets = [')', ']', '}']\n",
    "\n",
    "    for i in my_sequence:\n",
    "        if i in open_brackets:\n",
    "            my_stack.append(i)\n",
    "        else:\n",
    "            index = close_brackets.index(i)\n",
    "            if len(my_stack) > 0 and (open_brackets[index] == my_stack[-1]):\n",
    "                my_stack.pop()                \n",
    "            else:\n",
    "                return \"NO\"\n",
    "\n",
    "    return \"YES\" if len(my_stack) == 0 else \"NO\"\n",
    "\n",
    "print(is_balanced(\"{}(]{\"))\n",
    "print(is_balanced(\"{}[]()[(())]\"))"
   ]
  },
  {
   "cell_type": "markdown",
   "id": "close-cooper",
   "metadata": {},
   "source": [
    "<hr/>"
   ]
  },
  {
   "cell_type": "markdown",
   "id": "greek-connection",
   "metadata": {},
   "source": [
    "## Part 2\n",
    "### 1. Create generator with and without comprehension for getting multiples of given number upto 10.\n",
    "a. Eg. generator(5) =>> 5, 10, 15 …. 50\n",
    "\n",
    "#### with comprehension"
   ]
  },
  {
   "cell_type": "code",
   "execution_count": 6,
   "id": "unlimited-testing",
   "metadata": {},
   "outputs": [
    {
     "name": "stdout",
     "output_type": "stream",
     "text": [
      "5 10 15 20 25 30 35 40 45 50 "
     ]
    }
   ],
   "source": [
    "def get_multiple_gen(digit):\n",
    "    return (digit*count for count in range(1, 11))\n",
    "\n",
    "for i in get_multiple_gen(5):\n",
    "    print(i, end=' ')"
   ]
  },
  {
   "cell_type": "markdown",
   "id": "dynamic-apartment",
   "metadata": {},
   "source": [
    "#### without comprehension"
   ]
  },
  {
   "cell_type": "code",
   "execution_count": 7,
   "id": "impressed-preliminary",
   "metadata": {},
   "outputs": [
    {
     "name": "stdout",
     "output_type": "stream",
     "text": [
      "5 10 15 20 25 30 35 40 45 50 "
     ]
    }
   ],
   "source": [
    "def get_multiple_gen(x):\n",
    "    for count in range(1, 11):\n",
    "        yield x*count\n",
    "        \n",
    "for i in get_multiple_gen(5):\n",
    "    print(i, end=' ')"
   ]
  },
  {
   "cell_type": "markdown",
   "id": "excess-taylor",
   "metadata": {},
   "source": [
    "<br/>"
   ]
  },
  {
   "cell_type": "markdown",
   "id": "alike-praise",
   "metadata": {},
   "source": [
    "### 2. Create a scenario where the following errors are handled:\n",
    "a. Custom Error implemented using class <br/>\n",
    "b. Custom Error using Exception or BaseException class using message to handle at least two of the cases. <br/>\n",
    "c.The full-fledged case for exception handling using try, except, else, finally\n",
    "\n",
    "##### Scenario: Check student marks in Computer subject."
   ]
  },
  {
   "cell_type": "code",
   "execution_count": 8,
   "id": "narrative-bristol",
   "metadata": {},
   "outputs": [
    {
     "name": "stdout",
     "output_type": "stream",
     "text": [
      "Congratulations, you have passed!\n",
      "All the best for your upcoming days!\n"
     ]
    }
   ],
   "source": [
    "class InvalidMarks(Exception):\n",
    "    pass\n",
    "\n",
    "def check_marks(marks):\n",
    "    try:\n",
    "        if marks > 0 and marks < 40:\n",
    "            raise BaseException\n",
    "        elif marks <= 0:\n",
    "            raise InvalidMarks(\"Please enter a valid marks.\")\n",
    "        elif marks >= 100:\n",
    "            raise InvalidMarks(\"You can't score more than 100, right?\")\n",
    "    \n",
    "    except InvalidMarks as err_msg:\n",
    "        print(err_msg)\n",
    "    \n",
    "    except:\n",
    "        print(\"Sorry, you have failed in this module!\")\n",
    "    \n",
    "    else:\n",
    "        print(\"Congratulations, you have passed!\")\n",
    "    \n",
    "    finally:\n",
    "        print(\"All the best for your upcoming days!\")\n",
    "    \n",
    "\n",
    "check_marks(80)"
   ]
  },
  {
   "cell_type": "markdown",
   "id": "sustained-monte",
   "metadata": {},
   "source": [
    "<br/>"
   ]
  },
  {
   "cell_type": "markdown",
   "id": "express-equivalent",
   "metadata": {},
   "source": [
    "### 3. Create at least 4 classes having semantic meaning (having relation to each other) so that multiple inheritance can be achieved and incorporating the following things in some of them:\n",
    "a. @classmethod <br/>\n",
    "b. @staticmethod <br/>\n",
    "c. @property and setter for it <br/>\n",
    "d. Class_variable\n"
   ]
  },
  {
   "cell_type": "code",
   "execution_count": 9,
   "id": "after-invention",
   "metadata": {},
   "outputs": [],
   "source": [
    "class Customer:\n",
    "    def __init__(self, customer_name):\n",
    "        self.customer_name = customer_name\n",
    "    \n",
    "    @property\n",
    "    def customer_identity(self):\n",
    "        return self.customer_name\n",
    "\n",
    "    @customer_identity.setter\n",
    "    def customer_identity(self, new_customer_name):\n",
    "        self.customer_name = new_customer_name\n",
    "    \n",
    "    def get_customer_name(self):\n",
    "        return self.customer_name\n",
    "    \n",
    "\n",
    "class Category:\n",
    "    def __init__(self, category_id):\n",
    "        self.category_id = category_id \n",
    "        \n",
    "    def get_category(self):\n",
    "        if self.category_id == 'STN':\n",
    "            return \"Stationary\"\n",
    "        else:\n",
    "            return \"Miscellaneous\"\n",
    "        \n",
    "    def __str__(self):\n",
    "        return \"{} is {}\".format(self.category_id, self.get_category())\n",
    "    \n",
    "    @classmethod \n",
    "    def using_string(cls, string):\n",
    "        category_id = string\n",
    "        return cls(category_id)\n",
    "    \n",
    "    \n",
    "class Item(Category):\n",
    "    def __init__(self, item_name, available_quantity, category_id):\n",
    "        super().__init__(category_id)\n",
    "        self.item_name = item_name\n",
    "        self.available_quantity = available_quantity\n",
    "    \n",
    "    # a static method to check if an item is available or not\n",
    "    @staticmethod\n",
    "    def is_available(quantity):\n",
    "        return True if quantity > 0 else False   \n",
    "    \n",
    "    def get_item_name(self):\n",
    "        return self.item_name\n",
    "    \n",
    "\n",
    "class Order(Customer, Item):\n",
    "    address = \"Nepal\"\n",
    "    order_list = []\n",
    "    def __init__(self, customer_name, item_name, available_quantity, category_id, ordered_quantity):\n",
    "        Customer.__init__(self, customer_name)\n",
    "        Item.__init__(self, item_name, available_quantity, category_id)\n",
    "        self.ordered_quantity = ordered_quantity\n",
    "        \n",
    "    def order_message(self):\n",
    "        return \"The customer {} from {} ordered an item {} of category {}.\".format(super().get_customer_name(),\n",
    "                                                                                   self.address,\n",
    "                                                                                   super().get_item_name(),\n",
    "                                                                                   super().get_category())  \n",
    "    \n",
    "    @property\n",
    "    def order_list(self):\n",
    "        return [super().get_customer_name(), self.address, super().get_item_name(), super().get_category(), self.ordered_quantity]"
   ]
  },
  {
   "cell_type": "code",
   "execution_count": 10,
   "id": "packed-fault",
   "metadata": {},
   "outputs": [
    {
     "name": "stdout",
     "output_type": "stream",
     "text": [
      "True\n",
      "The customer Charles William from Nepal ordered an item Geometry box of category Stationary.\n"
     ]
    }
   ],
   "source": [
    "order = Order('Charles William', 'Geometry box', 5, 'STN', 2)\n",
    "print(order.is_available(5))\n",
    "print(order.order_message())"
   ]
  },
  {
   "cell_type": "code",
   "execution_count": 11,
   "id": "excellent-doctrine",
   "metadata": {},
   "outputs": [
    {
     "data": {
      "text/plain": [
       "'The customer Charles Michael from Nepal ordered an item Geometry box of category Stationary.'"
      ]
     },
     "execution_count": 11,
     "metadata": {},
     "output_type": "execute_result"
    }
   ],
   "source": [
    "order.customer_identity = \"Charles Michael\"\n",
    "order.order_message()"
   ]
  },
  {
   "cell_type": "code",
   "execution_count": 13,
   "id": "advised-saskatchewan",
   "metadata": {},
   "outputs": [
    {
     "name": "stdout",
     "output_type": "stream",
     "text": [
      "SHA is Miscellaneous\n"
     ]
    }
   ],
   "source": [
    "cat = Category.using_string('SHA')\n",
    "print(cat)"
   ]
  },
  {
   "cell_type": "markdown",
   "id": "electrical-scenario",
   "metadata": {},
   "source": [
    "<br/>"
   ]
  },
  {
   "cell_type": "markdown",
   "id": "czech-carnival",
   "metadata": {},
   "source": [
    "### 4. Create a class for complex number implementing all the arithmetic operations and relational operations related dunder methods. \n",
    "Eg. __add__, __iadd__, __mult__, __eq__, __lt__, …"
   ]
  },
  {
   "cell_type": "code",
   "execution_count": 14,
   "id": "vietnamese-judges",
   "metadata": {},
   "outputs": [],
   "source": [
    "class ComplexNumber:\n",
    "    def __init__(self, a):\n",
    "        self.a = a\n",
    "    \n",
    "    def __add__(self, b):\n",
    "        return self.a + b\n",
    "    \n",
    "    def __sub__(self, b):\n",
    "        return self.a - b\n",
    "    \n",
    "    def __iadd__(self, b):\n",
    "        self.a = self.a + b\n",
    "        return self.a\n",
    "    \n",
    "    def __mul__(self, b):\n",
    "        return self.a * b\n",
    "    \n",
    "    def __div__(self, b):\n",
    "        return self.a / b\n",
    "    \n",
    "    def __floordiv__(self, b):\n",
    "        return self.a // b \n",
    "    \n",
    "    def __mod__(self, b):\n",
    "        return self.a % b\n",
    "    \n",
    "    def __pow__(self, b):\n",
    "        return self.a ** b\n",
    "    \n",
    "    def __eq__(self, b):\n",
    "        return self.a == b\n",
    "    \n",
    "    def __lt__(self, b):\n",
    "        return self.a < b\n",
    "    \n",
    "    def __gt__(self, b):\n",
    "        return self.a > b\n",
    "    \n",
    "    def __le__(self, b):\n",
    "        return self.a <= b\n",
    "    \n",
    "    def __ge__(self, b):\n",
    "        return self.a >= b\n",
    "\n",
    "    def __ne__(self, b):\n",
    "        return self.a != b\n",
    "    \n",
    "    def __gt__(self, b):\n",
    "        return self.a > b"
   ]
  },
  {
   "cell_type": "code",
   "execution_count": 15,
   "id": "surprised-netscape",
   "metadata": {},
   "outputs": [
    {
     "name": "stdout",
     "output_type": "stream",
     "text": [
      "55\n",
      "55\n",
      "275\n",
      "False\n",
      "False\n"
     ]
    }
   ],
   "source": [
    "obj = ComplexNumber(50)\n",
    "print(obj.__add__(5))\n",
    "print(obj.__iadd__(5))\n",
    "print(obj.__mul__(5))\n",
    "print(obj.__eq__(5))\n",
    "print(obj.__lt__(5))"
   ]
  },
  {
   "cell_type": "markdown",
   "id": "tutorial-space",
   "metadata": {},
   "source": [
    "<br/>"
   ]
  },
  {
   "cell_type": "markdown",
   "id": "classical-fishing",
   "metadata": {},
   "source": [
    "### 5. Create a Class representing the clone behavior of lists in python.\n",
    "a. Eg. List(“1234”) works same as list(“1234”) <br/>\n",
    "b. Adding 2 lists, multiple ways of instantiating using @classmethod.\n"
   ]
  },
  {
   "cell_type": "code",
   "execution_count": 16,
   "id": "comparative-liquid",
   "metadata": {},
   "outputs": [],
   "source": [
    "class List():\n",
    "    def __init__(self, my_list):\n",
    "        self.my_list = my_list\n",
    "        \n",
    "    def display_clone(self):\n",
    "        return list(self.my_list)\n",
    "    \n",
    "    @classmethod\n",
    "    def add_list(cls, my_list, my_second_list):\n",
    "        return cls(list(map((lambda x, y: x + y), my_list, my_second_list)))"
   ]
  },
  {
   "cell_type": "code",
   "execution_count": 17,
   "id": "stopped-belize",
   "metadata": {},
   "outputs": [
    {
     "data": {
      "text/plain": [
       "['1', '2', '3', '4']"
      ]
     },
     "execution_count": 17,
     "metadata": {},
     "output_type": "execute_result"
    }
   ],
   "source": [
    "obj_list = List(\"1234\")\n",
    "obj_list.display_clone()"
   ]
  },
  {
   "cell_type": "code",
   "execution_count": 18,
   "id": "distributed-reward",
   "metadata": {},
   "outputs": [
    {
     "data": {
      "text/plain": [
       "[2, 3, 4, 5]"
      ]
     },
     "execution_count": 18,
     "metadata": {},
     "output_type": "execute_result"
    }
   ],
   "source": [
    "obj_list_2 = List.add_list([1, 1, 1, 1], [1, 2, 3, 4])\n",
    "obj_list_2.display_clone()"
   ]
  },
  {
   "cell_type": "markdown",
   "id": "blocked-maldives",
   "metadata": {},
   "source": [
    "<br/>"
   ]
  },
  {
   "cell_type": "markdown",
   "id": "prospective-passing",
   "metadata": {},
   "source": [
    "### 6. Replicate the behaviour of range() object using :\n",
    "#### a. Iterator class, __iter__ and __next__ "
   ]
  },
  {
   "cell_type": "code",
   "execution_count": 19,
   "id": "existing-tourist",
   "metadata": {},
   "outputs": [
    {
     "name": "stdout",
     "output_type": "stream",
     "text": [
      "1\n",
      "2\n",
      "3\n",
      "4\n"
     ]
    }
   ],
   "source": [
    "class Range:\n",
    "    def __iter__(self):\n",
    "        self.i = 1\n",
    "        return self\n",
    "\n",
    "    def __next__(self):\n",
    "        x = self.i\n",
    "        self.i += 1\n",
    "        return x\n",
    "\n",
    "range_obj = Range()\n",
    "my_iter = iter(range_obj)\n",
    "\n",
    "print(next(my_iter))\n",
    "print(next(my_iter))\n",
    "print(next(my_iter))\n",
    "print(next(my_iter))"
   ]
  },
  {
   "cell_type": "markdown",
   "id": "hungarian-empire",
   "metadata": {},
   "source": [
    "#### b. Generator \n"
   ]
  },
  {
   "cell_type": "code",
   "execution_count": 20,
   "id": "primary-receiver",
   "metadata": {},
   "outputs": [
    {
     "name": "stdout",
     "output_type": "stream",
     "text": [
      "5\n",
      "3\n",
      "1\n"
     ]
    }
   ],
   "source": [
    "def get_odd_gen(x):\n",
    "    while x > 0:\n",
    "        if x%2 != 0:\n",
    "            yield x\n",
    "        x -= 1\n",
    "    \n",
    "        \n",
    "for i in get_odd_gen(5):\n",
    "    print(i)"
   ]
  },
  {
   "cell_type": "markdown",
   "id": "combined-johnson",
   "metadata": {},
   "source": [
    "#### c. Generator comprehension"
   ]
  },
  {
   "cell_type": "code",
   "execution_count": 21,
   "id": "welsh-memorabilia",
   "metadata": {},
   "outputs": [
    {
     "data": {
      "text/plain": [
       "[3, 1]"
      ]
     },
     "execution_count": 21,
     "metadata": {},
     "output_type": "execute_result"
    }
   ],
   "source": [
    "[i for i in get_odd_gen(4)]"
   ]
  },
  {
   "cell_type": "markdown",
   "id": "dramatic-prevention",
   "metadata": {},
   "source": [
    "<hr/>"
   ]
  },
  {
   "cell_type": "markdown",
   "id": "capable-clear",
   "metadata": {},
   "source": [
    "## Part 3"
   ]
  },
  {
   "cell_type": "markdown",
   "id": "sexual-jackson",
   "metadata": {},
   "source": [
    "- Create a connection to a postgres database using psycopg2\n",
    "- Create a table named 'users'\n",
    "    -- columns -> id, name, dob, profession\n",
    "- Create table names `address`\n",
    "    -- Columns -> id, user_id (FK -> users), permanent_address, temporary_address"
   ]
  },
  {
   "cell_type": "code",
   "execution_count": 22,
   "id": "underlying-ending",
   "metadata": {},
   "outputs": [],
   "source": [
    "import psycopg2 as pg2"
   ]
  },
  {
   "cell_type": "code",
   "execution_count": 23,
   "id": "ethical-water",
   "metadata": {},
   "outputs": [],
   "source": [
    "try:\n",
    "    connection = pg2.connect(\n",
    "        host=\"localhost\",\n",
    "        user=\"postgres\",\n",
    "        password=\"sql-admin\",\n",
    "        port=\"5432\",\n",
    "        database=\"users_db\"\n",
    "    )\n",
    "    \n",
    "    cursor = connection.cursor()\n",
    "    \n",
    "    create_users_query = '''\n",
    "        CREATE TABLE IF NOT EXISTS users (\n",
    "            id INT PRIMARY KEY,\n",
    "            name VARCHAR(100) NOT NULL,\n",
    "            dob DATE NOT NULL,\n",
    "            profession VARCHAR(50) NOT NULL\n",
    "        );   \n",
    "    '''\n",
    "    \n",
    "    create_address_column = '''\n",
    "        CREATE TABLE IF NOT EXISTS address (\n",
    "            id INT PRIMARY KEY,\n",
    "            user_id INT NOT NULL,\n",
    "            permanent_address VARCHAR(50) NOT NULL,\n",
    "            temporary_address VARCHAR(50) NOT NULL,\n",
    "            CONSTRAINT user_fk FOREIGN KEY(user_id) REFERENCES users(id) ON DELETE CASCADE \n",
    "        );\n",
    "    '''\n",
    "    \n",
    "    cursor.execute(create_users_query)\n",
    "    cursor.execute(create_address_column)    \n",
    "\n",
    "    connection.commit()\n",
    "    \n",
    "except Exception as e:\n",
    "    print(\"An error has occured\", e)\n",
    "    \n",
    "finally:\n",
    "    cursor.close()\n",
    "    connection.close()"
   ]
  },
  {
   "cell_type": "markdown",
   "id": "civilian-winner",
   "metadata": {},
   "source": [
    "- Insert dummy data in the tables using psycopg connection"
   ]
  },
  {
   "cell_type": "code",
   "execution_count": 24,
   "id": "tested-deviation",
   "metadata": {},
   "outputs": [],
   "source": [
    "try:\n",
    "    connection = pg2.connect(\n",
    "        host=\"localhost\",\n",
    "        user=\"postgres\",\n",
    "        password=\"sql-admin\",\n",
    "        port=\"5432\",\n",
    "        database=\"users_db\"\n",
    "    )\n",
    "    \n",
    "    cursor = connection.cursor()\n",
    "       \n",
    "    users_data = [\n",
    "        {\n",
    "            'id': 101,\n",
    "            'name': 'Andrew Ran',\n",
    "            'dob': '2015-01-02',\n",
    "            'profession': 'Student'\n",
    "        },\n",
    "        {\n",
    "            'id': 102,\n",
    "            'name': 'Rain Bow',\n",
    "            'dob': '2001-10-03',\n",
    "            'profession': 'Data Engineer'\n",
    "        },\n",
    "        {\n",
    "            'id': 103,\n",
    "            'name': 'Michael Rai',\n",
    "            'dob': '1999-10-01',\n",
    "            'profession': 'Data Scientist'\n",
    "        },\n",
    "        {\n",
    "            'id': 104,\n",
    "            'name': 'Prince Wales',\n",
    "            'dob': '1998-10-13',\n",
    "            'profession': 'Frontend Developer'\n",
    "        },\n",
    "        {\n",
    "            'id': 105,\n",
    "            'name': 'Hayden Ian',\n",
    "            'dob': '1991-11-03',\n",
    "            'profession': 'Professor'\n",
    "        },\n",
    "    ]\n",
    "    \n",
    "    insert_users_query = '''\n",
    "        INSERT INTO users VALUES (%(id)s, %(name)s, %(dob)s, %(profession)s)\n",
    "    '''\n",
    "    \n",
    "    address_data = [\n",
    "        {\n",
    "            'id': 201,\n",
    "            'user_id': 101,\n",
    "            'permanent_address': 'Dharan',\n",
    "            'temporary_address': 'Kathmandu',\n",
    "        },\n",
    "        {\n",
    "            'id': 202,\n",
    "            'user_id': 102,\n",
    "            'permanent_address': 'Chitwan',\n",
    "            'temporary_address': 'Butwal',\n",
    "        },\n",
    "        {\n",
    "            'id': 203,\n",
    "            'user_id': 103,\n",
    "            'permanent_address': 'Lalitpur',\n",
    "            'temporary_address': 'Bhaktapur',\n",
    "        },\n",
    "        {\n",
    "            'id': 204,\n",
    "            'user_id': 104,\n",
    "            'permanent_address': 'Dharan',\n",
    "            'temporary_address': 'Itahari',\n",
    "        },\n",
    "        {\n",
    "            'id': 205,\n",
    "            'user_id': 105,\n",
    "            'permanent_address': 'Kathmandu',\n",
    "            'temporary_address': 'Biratnagar',\n",
    "        }\n",
    "    ]\n",
    "    \n",
    "    insert_address_query = '''\n",
    "        INSERT INTO address VALUES (%(id)s, %(user_id)s, %(permanent_address)s, %(temporary_address)s)\n",
    "    '''\n",
    "    \n",
    "    cursor.executemany(insert_users_query, users_data)\n",
    "    cursor.executemany(insert_address_query, address_data)\n",
    "    \n",
    "\n",
    "    connection.commit()\n",
    "    \n",
    "except Exception as e:\n",
    "    print(\"An error has occured\", e)\n",
    "    \n",
    "finally:\n",
    "    cursor.close()\n",
    "    connection.close()"
   ]
  },
  {
   "cell_type": "markdown",
   "id": "geographic-nirvana",
   "metadata": {},
   "source": [
    "\n",
    "- Fetch data from the joined users and address table \n",
    "    -- given user_id\n",
    "    -- given profession and permanent_address"
   ]
  },
  {
   "cell_type": "code",
   "execution_count": 25,
   "id": "aging-setting",
   "metadata": {},
   "outputs": [
    {
     "name": "stdout",
     "output_type": "stream",
     "text": [
      "[(101, 'Andrew Ran', datetime.date(2015, 1, 2), 'Student', 201, 101, 'Dharan', 'Kathmandu')]\n"
     ]
    }
   ],
   "source": [
    "try:\n",
    "    connection = pg2.connect(\n",
    "        host=\"localhost\",\n",
    "        user=\"postgres\",\n",
    "        password=\"sql-admin\",\n",
    "        port=\"5432\",\n",
    "        database=\"users_db\"\n",
    "    )\n",
    "    \n",
    "    cursor = connection.cursor()\n",
    "    \n",
    "    get_user_address_query = '''\n",
    "        SELECT * \n",
    "        FROM users u\n",
    "        JOIN address a\n",
    "        ON u.id = a.user_id\n",
    "        WHERE a.user_id = 101 \n",
    "        AND profession = 'Student'\n",
    "        AND permanent_address = 'Dharan';\n",
    "    '''\n",
    "    \n",
    "    cursor.execute(get_user_address_query)\n",
    "    print(cursor.fetchall())\n",
    "    \n",
    "except Exception as e:\n",
    "    print(\"An error has occured\", e)\n",
    "    \n",
    "finally:\n",
    "    cursor.close()\n",
    "    connection.close()"
   ]
  },
  {
   "cell_type": "markdown",
   "id": "outside-helen",
   "metadata": {},
   "source": [
    "- Update table users and add column gender\n"
   ]
  },
  {
   "cell_type": "code",
   "execution_count": 26,
   "id": "frank-moore",
   "metadata": {},
   "outputs": [
    {
     "name": "stdout",
     "output_type": "stream",
     "text": [
      "[(101, 'Andrew Ran', datetime.date(2015, 1, 2), 'Student', 'Male'), (102, 'Rain Bow', datetime.date(2001, 10, 3), 'Data Engineer', 'Male'), (103, 'Michael Rai', datetime.date(1999, 10, 1), 'Data Scientist', 'Male'), (104, 'Prince Wales', datetime.date(1998, 10, 13), 'Frontend Developer', 'Male'), (105, 'Hayden Ian', datetime.date(1991, 11, 3), 'Professor', 'Male')]\n"
     ]
    }
   ],
   "source": [
    "try:\n",
    "    connection = pg2.connect(\n",
    "        host=\"localhost\",\n",
    "        user=\"postgres\",\n",
    "        password=\"sql-admin\",\n",
    "        port=\"5432\",\n",
    "        database=\"users_db\"\n",
    "    )\n",
    "    \n",
    "    cursor = connection.cursor()\n",
    "    \n",
    "    update_users_query = '''\n",
    "        ALTER TABLE users\n",
    "        ADD COLUMN gender VARCHAR(10) NOT NULL DEFAULT 'Male';\n",
    "    '''\n",
    "    \n",
    "    get_users_query = '''\n",
    "        SELECT * \n",
    "        FROM users;\n",
    "    '''\n",
    "    \n",
    "    cursor.execute(update_users_query)\n",
    "    cursor.execute(get_users_query)\n",
    "    print(cursor.fetchall())\n",
    "    \n",
    "except Exception as e:\n",
    "    print(\"An error has occured\", e)\n",
    "    \n",
    "finally:\n",
    "    cursor.close()\n",
    "    connection.close()"
   ]
  },
  {
   "cell_type": "markdown",
   "id": "developed-possession",
   "metadata": {},
   "source": [
    "- Delete records from user whose age is less than 20 yrs"
   ]
  },
  {
   "cell_type": "code",
   "execution_count": 27,
   "id": "exclusive-macedonia",
   "metadata": {},
   "outputs": [
    {
     "name": "stdout",
     "output_type": "stream",
     "text": [
      "[(102, 'Rain Bow', datetime.date(2001, 10, 3), 'Data Engineer'), (103, 'Michael Rai', datetime.date(1999, 10, 1), 'Data Scientist'), (104, 'Prince Wales', datetime.date(1998, 10, 13), 'Frontend Developer'), (105, 'Hayden Ian', datetime.date(1991, 11, 3), 'Professor')]\n"
     ]
    }
   ],
   "source": [
    "try:\n",
    "    connection = pg2.connect(\n",
    "        host=\"localhost\",\n",
    "        user=\"postgres\",\n",
    "        password=\"sql-admin\",\n",
    "        port=\"5432\",\n",
    "        database=\"users_db\"\n",
    "    )\n",
    "    \n",
    "    cursor = connection.cursor()\n",
    "    \n",
    "    delete_users_query = '''\n",
    "        DELETE FROM users\n",
    "        WHERE date_part('year', now()) - date_part('year', dob) < 20;\n",
    "    '''\n",
    "    \n",
    "    get_users_query = '''\n",
    "        SELECT * \n",
    "        FROM users;\n",
    "    '''\n",
    "    \n",
    "    cursor.execute(delete_users_query)\n",
    "    cursor.execute(get_users_query)\n",
    "    print(cursor.fetchall())\n",
    "    \n",
    "except Exception as e:\n",
    "    print(\"An error has occured\", e)\n",
    "    \n",
    "finally:\n",
    "    cursor.close()\n",
    "    connection.close()"
   ]
  }
 ],
 "metadata": {
  "kernelspec": {
   "display_name": "Python 3",
   "language": "python",
   "name": "python3"
  },
  "language_info": {
   "codemirror_mode": {
    "name": "ipython",
    "version": 3
   },
   "file_extension": ".py",
   "mimetype": "text/x-python",
   "name": "python",
   "nbconvert_exporter": "python",
   "pygments_lexer": "ipython3",
   "version": "3.8.8"
  }
 },
 "nbformat": 4,
 "nbformat_minor": 5
}
